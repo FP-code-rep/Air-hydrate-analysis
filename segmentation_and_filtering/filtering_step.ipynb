{
 "cells": [
  {
   "cell_type": "markdown",
   "id": "1e3bfb9c-41e9-4491-aa5e-b8630b39f562",
   "metadata": {},
   "source": [
    "# Air hydrate filtering"
   ]
  },
  {
   "cell_type": "markdown",
   "id": "4c5db0d4-7d30-4d31-8ddd-d89d189d9aa2",
   "metadata": {},
   "source": [
    "This notebook filters air hydrates obtained from the segmentation step to produce the final segmentation result"
   ]
  },
  {
   "cell_type": "markdown",
   "id": "06764ab2-542e-4a8c-a07e-3f6d25509546",
   "metadata": {},
   "source": [
    "![title](Filtering_step.png)"
   ]
  },
  {
   "cell_type": "markdown",
   "id": "94a36504-47e2-4dde-b522-5b7fd07368f9",
   "metadata": {},
   "source": [
    "#### Import necessary packages"
   ]
  },
  {
   "cell_type": "code",
   "execution_count": null,
   "id": "cbf2d2f7",
   "metadata": {},
   "outputs": [],
   "source": [
    "import cv2\n",
    "import skimage\n",
    "###################################################\n",
    "from skimage import color, filters, measure\n",
    "from skimage import img_as_float, img_as_ubyte\n",
    "from skimage.feature import canny\n",
    "from skimage.morphology import closing, dilation, skeletonize\n",
    "###################################################\n",
    "import numpy as np\n",
    "from matplotlib import pyplot as plt\n",
    "%matplotlib inline\n",
    "import pandas as pd\n",
    "###################################################\n",
    "from scipy import ndimage as ndi\n",
    "###################################################\n",
    "import glob\n",
    "import time\n",
    "import os\n",
    "import sys\n",
    "from pathlib import Path"
   ]
  },
  {
   "cell_type": "markdown",
   "id": "edaebc63-582a-4a8c-9640-82ba13c5e3e0",
   "metadata": {},
   "source": [
    "#### Version control"
   ]
  },
  {
   "cell_type": "code",
   "execution_count": null,
   "id": "97e0b2c0-f94a-4eb2-b85c-06cf6aacf9db",
   "metadata": {},
   "outputs": [],
   "source": [
    "from datetime import date \n",
    "today = date.today().isoformat()\n",
    "\n",
    "print(f\"Notebook last run in {today}\")"
   ]
  },
  {
   "cell_type": "code",
   "execution_count": null,
   "id": "dfe8f1cc-f968-4bff-9be1-d5013db6fcc8",
   "metadata": {},
   "outputs": [],
   "source": [
    "sys.version #Python"
   ]
  },
  {
   "cell_type": "code",
   "execution_count": null,
   "id": "f94dc24d",
   "metadata": {},
   "outputs": [],
   "source": [
    "cv2.__version__ #OpenCV"
   ]
  },
  {
   "cell_type": "code",
   "execution_count": null,
   "id": "d9fbfc50",
   "metadata": {},
   "outputs": [],
   "source": [
    "skimage.__version__ #scikit-image"
   ]
  },
  {
   "cell_type": "code",
   "execution_count": null,
   "id": "f309df5a-7eda-474d-8378-1462c01537d1",
   "metadata": {},
   "outputs": [],
   "source": [
    "pd.__version__ #Pandas"
   ]
  },
  {
   "cell_type": "code",
   "execution_count": null,
   "id": "9259d601-63d1-475c-8610-0180308e7e2e",
   "metadata": {},
   "outputs": [],
   "source": [
    "np.__version__ #Numpy"
   ]
  },
  {
   "cell_type": "markdown",
   "id": "4e886e1f-18f6-4757-aa0f-7914499cf3de",
   "metadata": {},
   "source": [
    "#### Last edited:"
   ]
  },
  {
   "cell_type": "markdown",
   "id": "97cf67bf-74e5-473e-b393-9a4c8fac5645",
   "metadata": {},
   "source": [
    "29.10.2024"
   ]
  },
  {
   "cell_type": "markdown",
   "id": "8d6a906c",
   "metadata": {},
   "source": [
    "#### Set paths and name"
   ]
  },
  {
   "cell_type": "code",
   "execution_count": null,
   "id": "4d348f82-dc46-4a7e-8a3c-1a7e8bbb3ec5",
   "metadata": {},
   "outputs": [],
   "source": [
    "today = time.strftime(\"%d_%m_%Y\")"
   ]
  },
  {
   "cell_type": "code",
   "execution_count": null,
   "id": "f81b6032-6474-425d-a46f-0a631d45d3b9",
   "metadata": {},
   "outputs": [],
   "source": [
    "### Image series\n",
    "series = \"EDML C\""
   ]
  },
  {
   "cell_type": "code",
   "execution_count": null,
   "id": "ac4109ab-cda6-41ac-926c-2d69284edf2f",
   "metadata": {},
   "outputs": [],
   "source": [
    "### Segmentation category\n",
    "category = \"category_3\""
   ]
  },
  {
   "cell_type": "code",
   "execution_count": null,
   "id": "e660db95-11fd-427d-8b25-ca889b67332a",
   "metadata": {},
   "outputs": [],
   "source": [
    "### Insert the date when the segmentation step was performed\n",
    "seg_date = \"29_10_2024\""
   ]
  },
  {
   "cell_type": "code",
   "execution_count": null,
   "id": "e61effab-702e-45a0-99bc-63e9390f1961",
   "metadata": {},
   "outputs": [],
   "source": [
    "### Insert the directory where your images are saved\n",
    "img_path = f\".../{series}/{category}/\""
   ]
  },
  {
   "cell_type": "code",
   "execution_count": null,
   "id": "7891d36a",
   "metadata": {},
   "outputs": [],
   "source": [
    "### Insert the directory where the segmentation results where saved (i.e. save_path in the segmentation jupyter notebook)\n",
    "path_read = f\".../{series}/{seg_date}/{category}\""
   ]
  },
  {
   "cell_type": "markdown",
   "id": "634898b2-a6ee-4ee0-a978-4bd5c56e661f",
   "metadata": {},
   "source": [
    "#### Create paths for cleaned data"
   ]
  },
  {
   "cell_type": "markdown",
   "id": "c78897aa-817e-4296-8b7e-346a30aa98a7",
   "metadata": {},
   "source": [
    "Create folders for an optional cleaning step"
   ]
  },
  {
   "cell_type": "code",
   "execution_count": null,
   "id": "1e135254-7a20-4874-accb-667f5840b8e5",
   "metadata": {},
   "outputs": [],
   "source": [
    "# path_write = f\"{path_read}/cleaned_data/{today}\"\n",
    "# os.makedirs(path_write)"
   ]
  },
  {
   "cell_type": "code",
   "execution_count": null,
   "id": "a59df216-1565-4de9-a75f-9ad96be2c54a",
   "metadata": {},
   "outputs": [],
   "source": [
    "# path_data = f\"{path_write}/data\"\n",
    "# os.mkdir(path_data)\n",
    "# path_visual = f\"{path_write}/visual_test\"\n",
    "# os.mkdir(path_visual)\n",
    "# path_final = f\"{path_write}/seg_final\"\n",
    "# os.mkdir(path_final)"
   ]
  },
  {
   "cell_type": "markdown",
   "id": "f326c910",
   "metadata": {},
   "source": [
    "#### Get names of images in folder"
   ]
  },
  {
   "cell_type": "code",
   "execution_count": null,
   "id": "6f35ea20",
   "metadata": {},
   "outputs": [],
   "source": [
    "def load_image_names(img_path):\n",
    "    img_names = []\n",
    "    for filename in os.listdir(img_path):\n",
    "        img_names.append(filename.replace(\".tif\", \"\")) ### change .tif to .png etc... depending on the type of your images\n",
    "    return img_names"
   ]
  },
  {
   "cell_type": "code",
   "execution_count": null,
   "id": "36ebb998",
   "metadata": {},
   "outputs": [],
   "source": [
    "names = load_image_names(img_path)"
   ]
  },
  {
   "cell_type": "code",
   "execution_count": null,
   "id": "61a85342",
   "metadata": {},
   "outputs": [],
   "source": [
    "names"
   ]
  },
  {
   "cell_type": "markdown",
   "id": "effee654",
   "metadata": {},
   "source": [
    "## Filtering routine"
   ]
  },
  {
   "cell_type": "markdown",
   "id": "c1bfdfa0-7bd0-4fcb-81a2-dbc324030ef5",
   "metadata": {},
   "source": [
    "Create empty lists for saving metadata"
   ]
  },
  {
   "cell_type": "code",
   "execution_count": null,
   "id": "3fac1e6f-47bb-48d6-b5d7-7deb93ee1fdc",
   "metadata": {},
   "outputs": [],
   "source": [
    "filt_time=[]\n",
    "total_S1=[]\n",
    "total_S2=[]\n",
    "ar_area_S1=[]\n",
    "ar_area_S2=[]"
   ]
  },
  {
   "cell_type": "markdown",
   "id": "8e27d26c-b625-4d7a-bdf4-97d68dc29f1f",
   "metadata": {},
   "source": [
    "#### Filter variables"
   ]
  },
  {
   "cell_type": "markdown",
   "id": "81271751-3a54-4551-a3fb-e943936c7b24",
   "metadata": {},
   "source": [
    "Adjust the main filtering variables"
   ]
  },
  {
   "cell_type": "code",
   "execution_count": null,
   "id": "006a2768-3d42-4d6a-95fc-896021ba1ab6",
   "metadata": {},
   "outputs": [],
   "source": [
    "area_min=150 ### area in pixel\n",
    "area_max=10000 ### area in pixel\n",
    "intensity=50 ### mean object intensity\n",
    "circularity=0.3"
   ]
  },
  {
   "cell_type": "markdown",
   "id": "b842fb60-38b4-4a4e-af24-5d0bab0d604a",
   "metadata": {},
   "source": [
    "Additional specific variables"
   ]
  },
  {
   "cell_type": "code",
   "execution_count": null,
   "id": "13558481-b48a-4716-9558-88cc9d7efa4f",
   "metadata": {},
   "outputs": [],
   "source": [
    "size = 320 ### area in pixel\n",
    "aspect_ratio = 2.3"
   ]
  },
  {
   "cell_type": "markdown",
   "id": "6d804edf-5319-4297-a719-c02b307d667c",
   "metadata": {},
   "source": [
    "#### Variables for cleaning"
   ]
  },
  {
   "cell_type": "markdown",
   "id": "762e520e-1ded-4040-a02c-027102d1d0bc",
   "metadata": {},
   "source": [
    "Optional cleaning step"
   ]
  },
  {
   "cell_type": "code",
   "execution_count": null,
   "id": "5c6063db-1808-400c-a176-70a225c169f4",
   "metadata": {},
   "outputs": [],
   "source": [
    "# eq_diameterI\n",
    "# circ_clean\n",
    "# int_min\n",
    "# int_max"
   ]
  },
  {
   "cell_type": "code",
   "execution_count": null,
   "id": "30d42277-3e22-4f44-a071-a9712684efda",
   "metadata": {},
   "outputs": [],
   "source": [
    "### Use this to only filter certain files in each category. Switch out \"selected\" for \"names\" in the loop below. \n",
    "selected = [names[1], names[3], names[5], names[8]]\n",
    "selected"
   ]
  },
  {
   "cell_type": "markdown",
   "id": "7382d0c7-f5a8-40bd-a5bc-73f85ed65d8e",
   "metadata": {},
   "source": [
    "#### Measure process time"
   ]
  },
  {
   "cell_type": "code",
   "execution_count": null,
   "id": "e0d30dbe-bbda-46b0-9ba3-1c9701104d07",
   "metadata": {},
   "outputs": [],
   "source": [
    "start_all = time.time()"
   ]
  },
  {
   "cell_type": "markdown",
   "id": "6ce57dd6-3eee-4528-8aa9-4910f12c4092",
   "metadata": {},
   "source": [
    "#### Filtering loop"
   ]
  },
  {
   "cell_type": "markdown",
   "id": "09e67d49-b32c-46c4-b1fb-11b73187e6ee",
   "metadata": {},
   "source": [
    "The following for-loop automatically loads and filters all the images included in the choosen directory (or selected names above)."
   ]
  },
  {
   "cell_type": "code",
   "execution_count": null,
   "id": "0f783dc5",
   "metadata": {
    "scrolled": true
   },
   "outputs": [],
   "source": [
    "a=0\n",
    "for img in names: ### Put \"selected\" instead of \"names\" here to filter above selected images.\n",
    "    now=time.strftime(\"%d%m%Y-%H%M\")\n",
    "    filt_time.append(now)\n",
    "    ##############Load the images##############\n",
    "    original=cv2.imread(f\"{img_path}{img}.tif\", cv2.IMREAD_GRAYSCALE) ### change .tif to .png etc... depending on the type of your images\n",
    "    segmented_S1=cv2.imread(f\"{path_read}/segmented/{img}_segmented_S1.tif\", cv2.IMREAD_GRAYSCALE)\n",
    "    segmented_S3=cv2.imread(f\"{path_read}/segmented/{img}_segmented_S3.tif\", cv2.IMREAD_GRAYSCALE)\n",
    "    ##############Label the segmented image####\n",
    "    img_label_S1=measure.label(segmented_S1>0)\n",
    "    img_label_S2=measure.label(segmented_S3>0)\n",
    "    ##############Regionproperties#############\n",
    "    props_S1=measure.regionprops_table(img_label_S1,original,\n",
    "    properties=(\"label\",\"area\",\"equivalent_diameter_area\",\"perimeter\",\"coords\",\n",
    "                \"axis_minor_length\",\"axis_major_length\",\"eccentricity\",\n",
    "                \"intensity_mean\"))\n",
    "    \n",
    "    props_S2=measure.regionprops_table(img_label_S2,original,\n",
    "    properties=(\"label\",\"area\",\"equivalent_diameter_area\",\"perimeter\",\"coords\",\n",
    "                \"axis_minor_length\",\"axis_major_length\",\"eccentricity\",\n",
    "                \"intensity_mean\"))\n",
    "    ##############Data#########################\n",
    "    data_1=pd.DataFrame(props_S1)\n",
    "    data_2=pd.DataFrame(props_S2)\n",
    "    full_S1 = len(data_1)\n",
    "    total_S1.append(full_S1)\n",
    "    full_S2 = len(data_2)\n",
    "    total_S2.append(full_S2)\n",
    "    ##############Filter the data S1###########\n",
    "    data_filtered_1=data_1.copy()\n",
    "    data_filtered_1=data_filtered_1[(area_min < data_filtered_1['area']) & (data_filtered_1['area'] < area_max)]\n",
    "    data_filtered_1=data_filtered_1[data_filtered_1[\"intensity_mean\"]>intensity]\n",
    "    data_filtered_1[\"circularity\"] = 4*(np.pi)*(data_filtered_1[\"area\"]/np.square(data_filtered_1[\"perimeter\"]))\n",
    "    ########Additional noise filter for cleaning step#########\n",
    "    ### Uncomment the following 3 lines for individual cleaning variables.\n",
    "    #filtered_values = data_filtered_1.loc[(data_filtered_1['equivalent_diameter_area'] < eq_diameterI) & \n",
    "    #                        (data_filtered_1['circularity'] > circ_clean) & \n",
    "    #                        (data_filtered_1['intensity_mean'] < int_max) & (data_filtered_1['intensity_mean'] > int_min)]\n",
    "    ######Filter für aspect-ratio and area S1######\n",
    "    data_filtered_1[\"AR\"] = (data_filtered_1[\"axis_major_length\"])/(data_filtered_1[\"axis_minor_length\"])\n",
    "    filtered_values_1_ar = data_filtered_1.loc[(data_filtered_1['area'] < size) & \n",
    "                            (data_filtered_1['AR'] > aspect_ratio)]\n",
    "    filtered_index_1_ar=filtered_values_1_ar.index.to_numpy(copy=True)\n",
    "    ar_filt_S1 = len(filtered_index_1_ar) # Count the amount of filtered objects.\n",
    "    ar_area_S1.append(ar_filt_S1)\n",
    "    data_filtered_1 = data_filtered_1.drop(filtered_index_1_ar)\n",
    "    ##############Filter the data S2###########\n",
    "    data_filtered_2=data_2.copy() \n",
    "    data_filtered_2=data_filtered_2[(area_min < data_filtered_2['area']) & (data_filtered_2['area'] < area_max)]\n",
    "    data_filtered_2[\"circularity\"] = 4*(np.pi)*(data_filtered_2[\"area\"]/np.square(data_filtered_2[\"perimeter\"]))\n",
    "    data_filtered_2=data_filtered_2[data_filtered_2[\"intensity_mean\"]>intensity]\n",
    "    data_filtered_circ_2=data_filtered_2[data_filtered_2[\"circularity\"]> circularity]\n",
    "    ########Additional noise filter for cleaning step S2#########\n",
    "    ### Uncomment the following 3 lines for individual cleaning variables.\n",
    "    #filtered_values_2 = data_filtered_circ_2.loc[(data_filtered_circ_2['equivalent_diameter_area'] < eq_diameterI) & \n",
    "    #                        (data_filtered_circ_2['circularity'] > circ_clean) & \n",
    "    #                        (data_filtered_circ_2['intensity_mean'] < int_max) & (data_filtered_circ_2['intensity_mean'] > int_min)]\n",
    "    ######Filter für aspect-ratio and area S2######\n",
    "    data_filtered_circ_2[\"AR\"] = (data_filtered_circ_2[\"axis_major_length\"])/(data_filtered_circ_2[\"axis_minor_length\"])\n",
    "    filtered_values_2_ar = data_filtered_circ_2.loc[(data_filtered_circ_2['area'] < size) & \n",
    "                            (data_filtered_circ_2['AR'] > aspect_ratio)]\n",
    "    filtered_index_2_ar=filtered_values_2_ar.index.to_numpy(copy=True)\n",
    "    ar_filt_S2 = len(filtered_index_2_ar) # Count the amount of filtered objects.\n",
    "    ar_area_S2.append(ar_filt_S2)\n",
    "    data_filtered_circ_2 = data_filtered_circ_2.drop(filtered_index_2_ar)\n",
    "    ############Plot data_1 on image############\n",
    "    x_1=data_filtered_1[\"coords\"].to_numpy(copy=True)\n",
    "    base_1=np.zeros(original.shape, dtype=np.uint8)\n",
    "    for y in x_1:\n",
    "        for coord in y:\n",
    "            base_1[coord[0],coord[1]]=255\n",
    "    ############Plot data_2 on image############\n",
    "    x_2=data_filtered_circ_2[\"coords\"].to_numpy(copy=True)\n",
    "    base_2=np.zeros(original.shape, dtype=np.uint8)\n",
    "    for y in x_2:\n",
    "        for coord in y:\n",
    "            base_2[coord[0],coord[1]]=255        \n",
    "    ##############Merge data###################   \n",
    "    final=img_as_ubyte(np.where(((base_1==255) | (base_2==255)),255,0))\n",
    "    cv2.imwrite(f\"{path_read}/seg_final/{img}_filtered_II.tif\", final) ### FINAL binary segmented image.\n",
    "    ##############Visual test##################\n",
    "    base=np.zeros(original.shape, dtype=np.uint8)\n",
    "    r=img_as_ubyte(final)\n",
    "    g=base\n",
    "    b=base\n",
    "    bgr=cv2.merge((b,g,r))\n",
    "    new=cv2.cvtColor(original,cv2.COLOR_GRAY2BGR)\n",
    "    visual_test = cv2.addWeighted(new,0.6,bgr,0.4,0)\n",
    "    cv2.imwrite(f\"{path_read}/visual_test/{img}_filtered_II.jpg\",visual_test) ### Saves an image (jpg) for a FINAL visual assessment.\n",
    "    ###########################################\n",
    "    img_label_final=measure.label(final>0)\n",
    "    props_final=measure.regionprops_table(img_label_final,original,\n",
    "    properties=(\"label\",\"area\",\"equivalent_diameter_area\",\"perimeter\",\"centroid\",\n",
    "                \"axis_minor_length\",\"axis_major_length\",\"feret_diameter_max\",\"eccentricity\",\n",
    "                \"orientation\",\"intensity_mean\",\"slice\",\"coords\"))\n",
    "    data_final=pd.DataFrame(props_final)\n",
    "    data_final[\"circularity\"] = 4*(np.pi)*(data_final[\"area\"]/np.square(data_final[\"perimeter\"]))\n",
    "    # arr = data_final[\"coords\"].to_numpy()\n",
    "    # np.save(f\"{path_read}/data/{img}_coords.npy\", arr)\n",
    "    data_save=data_final.drop(columns=[\"coords\"])\n",
    "    data_save.to_csv(f\"{path_read}/data/{img}_filtered_II.csv\",sep=\";\") ### FINAL segmented data.\n",
    "    a=a+1"
   ]
  },
  {
   "cell_type": "markdown",
   "id": "9f38130a-3457-4b7d-8059-f4d35fa96541",
   "metadata": {},
   "source": [
    "## Create metadata"
   ]
  },
  {
   "cell_type": "markdown",
   "id": "4f7c2ba9-da59-4a5e-8123-03ceeeb25803",
   "metadata": {},
   "source": [
    "Saves the metadata as .csv file"
   ]
  },
  {
   "cell_type": "code",
   "execution_count": null,
   "id": "53ebb84b-0bef-47a8-945e-13eb13d875d3",
   "metadata": {},
   "outputs": [],
   "source": [
    "### Change \"names\" to \"selected\" as index if you chose to filter selected images.\n",
    "metadata = pd.DataFrame(columns=['time','Nr_objects_S1','Nr_objects_S2',\n",
    "                                 '<area_min','>area_max','<intensity','<circularity',\n",
    "                                 '<size_ar','>AR','filt_AR_S1','filt_AR_S2'],index=names)"
   ]
  },
  {
   "cell_type": "code",
   "execution_count": null,
   "id": "a6421217-fb2f-4631-b760-9809fa30d1f5",
   "metadata": {},
   "outputs": [],
   "source": [
    "metadata['time'] = filt_time\n",
    "##\n",
    "metadata['Nr_objects_S1'] = total_S1\n",
    "metadata['Nr_objects_S2'] = total_S1\n",
    "##\n",
    "metadata.loc[:,'<area_min'] = area_min\n",
    "metadata.loc[:,'>area_max'] = area_max\n",
    "metadata.loc[:,'<intensity'] = intensity\n",
    "metadata.loc[:,'<circularity'] = circularity\n",
    "##\n",
    "metadata.loc[:,'<size_ar'] = size\n",
    "metadata.loc[:,'>AR'] = aspect_ratio\n",
    "metadata['filt_AR_S1'] = ar_area_S1\n",
    "metadata['filt_AR_S2'] = ar_area_S2"
   ]
  },
  {
   "cell_type": "code",
   "execution_count": null,
   "id": "d53c6340-24e2-4d72-9b44-e3a9b690dbf1",
   "metadata": {},
   "outputs": [],
   "source": [
    "metadata.head()"
   ]
  },
  {
   "cell_type": "code",
   "execution_count": null,
   "id": "7083ed39-49bc-45fd-bc3b-6f04bc175fef",
   "metadata": {},
   "outputs": [],
   "source": [
    "metadata.to_csv(f\"{path_read}/{category}_metadata_filtered_II.csv\",sep=\";\")"
   ]
  },
  {
   "cell_type": "markdown",
   "id": "01b37130",
   "metadata": {},
   "source": [
    "#### Total time elapsed"
   ]
  },
  {
   "cell_type": "code",
   "execution_count": null,
   "id": "3b9b802b",
   "metadata": {},
   "outputs": [],
   "source": [
    "end_all = time.time()\n",
    "time_all = (end_all-start_all)"
   ]
  },
  {
   "cell_type": "code",
   "execution_count": null,
   "id": "bac05778",
   "metadata": {},
   "outputs": [],
   "source": [
    "print(\"Elapsed time:\", time_all, \"seconds\")"
   ]
  },
  {
   "cell_type": "markdown",
   "id": "8248152b-f137-4a7a-a1e2-676ae733c191",
   "metadata": {},
   "source": [
    "# Finished"
   ]
  },
  {
   "cell_type": "code",
   "execution_count": null,
   "id": "28a28e24-cd31-4500-ba41-8b89a4a8ab33",
   "metadata": {},
   "outputs": [],
   "source": []
  }
 ],
 "metadata": {
  "kernelspec": {
   "display_name": "Python 3 (ipykernel)",
   "language": "python",
   "name": "python3"
  },
  "language_info": {
   "codemirror_mode": {
    "name": "ipython",
    "version": 3
   },
   "file_extension": ".py",
   "mimetype": "text/x-python",
   "name": "python",
   "nbconvert_exporter": "python",
   "pygments_lexer": "ipython3",
   "version": "3.10.13"
  }
 },
 "nbformat": 4,
 "nbformat_minor": 5
}
