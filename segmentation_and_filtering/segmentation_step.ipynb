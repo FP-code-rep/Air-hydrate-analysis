{
 "cells": [
  {
   "cell_type": "markdown",
   "id": "a9cc9d80-8894-4015-940c-4708cd1c9c25",
   "metadata": {},
   "source": [
    "# Air hydrate segmentation"
   ]
  },
  {
   "cell_type": "markdown",
   "id": "13379fb0-906d-4771-b9f5-97ee6c77176c",
   "metadata": {},
   "source": [
    "This notebook segments air hydrates included in microphotographs"
   ]
  },
  {
   "cell_type": "markdown",
   "id": "687bf854-7bba-4eb5-82b5-dba23585e51e",
   "metadata": {},
   "source": [
    "![title](Segmentation_step.png)"
   ]
  },
  {
   "cell_type": "markdown",
   "id": "8e9ae882-d8f7-45fb-a852-fa155dfa98ce",
   "metadata": {},
   "source": [
    "#### Import the necessary packages"
   ]
  },
  {
   "cell_type": "code",
   "execution_count": null,
   "id": "566dab6c",
   "metadata": {},
   "outputs": [],
   "source": [
    "import cv2\n",
    "import skimage\n",
    "###################################################\n",
    "from skimage import color, filters, measure\n",
    "from skimage import img_as_float, img_as_ubyte\n",
    "from skimage.feature import canny\n",
    "from skimage.morphology import closing, dilation, skeletonize, square, binary_erosion, disk, binary_closing\n",
    "###################################################\n",
    "import numpy as np\n",
    "from matplotlib import pyplot as plt\n",
    "%matplotlib inline\n",
    "import pandas as pd\n",
    "###################################################\n",
    "from scipy import ndimage as ndi\n",
    "###################################################\n",
    "import glob\n",
    "import time\n",
    "import os\n",
    "import sys\n",
    "from pathlib import Path"
   ]
  },
  {
   "cell_type": "markdown",
   "id": "ff74cc7b-70dc-4852-bef7-6aee56ce15f0",
   "metadata": {},
   "source": [
    "#### Version control"
   ]
  },
  {
   "cell_type": "code",
   "execution_count": null,
   "id": "04b914c6-e1ca-4a24-957f-ca71c3638bb7",
   "metadata": {},
   "outputs": [],
   "source": [
    "from datetime import date \n",
    "today = date.today().isoformat()\n",
    "\n",
    "print(f\"Notebook last run in {today}\")"
   ]
  },
  {
   "cell_type": "code",
   "execution_count": null,
   "id": "f24deda3-ce28-4242-a30a-0f0c482598f8",
   "metadata": {},
   "outputs": [],
   "source": [
    "sys.version #Python"
   ]
  },
  {
   "cell_type": "code",
   "execution_count": null,
   "id": "1d992c6d",
   "metadata": {},
   "outputs": [],
   "source": [
    "cv2.__version__ #OpenCV"
   ]
  },
  {
   "cell_type": "code",
   "execution_count": null,
   "id": "8fe62586",
   "metadata": {},
   "outputs": [],
   "source": [
    "skimage.__version__ #scikit-image"
   ]
  },
  {
   "cell_type": "code",
   "execution_count": null,
   "id": "fca3751e-d976-44a9-9b50-563598552d10",
   "metadata": {},
   "outputs": [],
   "source": [
    "pd.__version__ #Pandas"
   ]
  },
  {
   "cell_type": "code",
   "execution_count": null,
   "id": "09802f5d-b511-485a-ba24-c10a45d9cc1a",
   "metadata": {},
   "outputs": [],
   "source": [
    "np.__version__ #Numpy"
   ]
  },
  {
   "cell_type": "code",
   "execution_count": null,
   "id": "0f8450dc-feaf-4b73-aa03-185716db4f30",
   "metadata": {},
   "outputs": [],
   "source": [
    "import scipy\n",
    "scipy.__version__ #Numpy"
   ]
  },
  {
   "cell_type": "code",
   "execution_count": null,
   "id": "ed5bef3b-29ad-46dd-b991-f89ad4637ca5",
   "metadata": {},
   "outputs": [],
   "source": [
    "import matplotlib\n",
    "matplotlib.__version__ #Numpy"
   ]
  },
  {
   "cell_type": "markdown",
   "id": "9e39e614",
   "metadata": {},
   "source": [
    "#### Last edited:"
   ]
  },
  {
   "cell_type": "markdown",
   "id": "491be753",
   "metadata": {},
   "source": [
    "29.10.2024"
   ]
  },
  {
   "cell_type": "markdown",
   "id": "2efd2e38",
   "metadata": {},
   "source": [
    "#### Set paths and name"
   ]
  },
  {
   "cell_type": "code",
   "execution_count": null,
   "id": "a1864711-7761-456d-8472-6b42d2d73b22",
   "metadata": {},
   "outputs": [],
   "source": [
    "### Image series\n",
    "series = \"EDML C\""
   ]
  },
  {
   "cell_type": "code",
   "execution_count": null,
   "id": "707453c2-525a-448d-afd3-47673652e5cc",
   "metadata": {},
   "outputs": [],
   "source": [
    "### Segmentation category\n",
    "category = \"category_3\""
   ]
  },
  {
   "cell_type": "code",
   "execution_count": null,
   "id": "cab8add6",
   "metadata": {},
   "outputs": [],
   "source": [
    "### Insert the directory where your images are saved\n",
    "img_path = f\".../{series}/{category}/\""
   ]
  },
  {
   "cell_type": "code",
   "execution_count": null,
   "id": "976143fd-3b86-45d2-b57c-5c4af0512f7b",
   "metadata": {},
   "outputs": [],
   "source": [
    "### Insert the directory where you want the results to be saved\n",
    "save_path = f\".../{series}/\""
   ]
  },
  {
   "cell_type": "markdown",
   "id": "79dc1b59-5441-4c3c-b1fc-f134d1183397",
   "metadata": {},
   "source": [
    "#### Create new paths"
   ]
  },
  {
   "cell_type": "markdown",
   "id": "9b8c182e-693c-488e-8ef8-5be24970a710",
   "metadata": {},
   "source": [
    "The next five lines create the necessary folders in the \"save_path\" directory where the results will be saved"
   ]
  },
  {
   "cell_type": "code",
   "execution_count": null,
   "id": "aa4ecff6-ce32-490e-9b84-a1b74bea9a9d",
   "metadata": {},
   "outputs": [],
   "source": [
    "today = time.strftime(\"%d_%m_%Y\")"
   ]
  },
  {
   "cell_type": "code",
   "execution_count": null,
   "id": "39b0da80-6190-4638-8ac9-728c8bb24e58",
   "metadata": {},
   "outputs": [],
   "source": [
    "path_main = f\"{save_path}/{today}/\"\n",
    "os.makedirs(path_main)"
   ]
  },
  {
   "cell_type": "code",
   "execution_count": null,
   "id": "0f150a9e-16a2-41bb-b7dd-8a64f7a55692",
   "metadata": {},
   "outputs": [],
   "source": [
    "path_category = f\"{path_main}/{category}\"\n",
    "os.mkdir(path_category)"
   ]
  },
  {
   "cell_type": "code",
   "execution_count": null,
   "id": "410e6b3d-7136-4038-adac-781c5fdd2c57",
   "metadata": {},
   "outputs": [],
   "source": [
    "path_data = f\"{path_main}/{category}/data\"\n",
    "path_edges = f\"{path_main}/{category}/edges\"\n",
    "path_segmented = f\"{path_main}/{category}/segmented\"\n",
    "path_visual = f\"{path_main}/{category}/visual_test\"\n",
    "path_final = f\"{path_main}/{category}/seg_final\""
   ]
  },
  {
   "cell_type": "code",
   "execution_count": null,
   "id": "55958d8e-a6d7-45d2-b493-8fb15c21907e",
   "metadata": {},
   "outputs": [],
   "source": [
    "os.mkdir(path_data)\n",
    "os.mkdir(path_edges)\n",
    "os.mkdir(path_segmented)\n",
    "os.mkdir(path_visual)\n",
    "os.mkdir(path_final)"
   ]
  },
  {
   "cell_type": "markdown",
   "id": "9a8027f9",
   "metadata": {},
   "source": [
    "#### Get names of images in folder"
   ]
  },
  {
   "cell_type": "code",
   "execution_count": null,
   "id": "f4836e82",
   "metadata": {},
   "outputs": [],
   "source": [
    "def load_image_names(img_path):\n",
    "    img_names = []\n",
    "    for filename in os.listdir(img_path):\n",
    "        img_names.append(filename.replace(\".tif\", \"\")) ### change .tif to .png etc... depending on the type of your images\n",
    "    return img_names"
   ]
  },
  {
   "cell_type": "code",
   "execution_count": null,
   "id": "b23a09d8",
   "metadata": {},
   "outputs": [],
   "source": [
    "names = load_image_names(img_path)"
   ]
  },
  {
   "cell_type": "code",
   "execution_count": null,
   "id": "079c2bf9",
   "metadata": {},
   "outputs": [],
   "source": [
    "names"
   ]
  },
  {
   "cell_type": "markdown",
   "id": "45d2b4f5",
   "metadata": {},
   "source": [
    "## Segmentation routine"
   ]
  },
  {
   "cell_type": "markdown",
   "id": "4a0e4481",
   "metadata": {},
   "source": [
    "### Lists"
   ]
  },
  {
   "cell_type": "markdown",
   "id": "13882d33-e4ef-47ba-9ce7-b2f8b0b66b25",
   "metadata": {},
   "source": [
    "Create lists for the saving of metadata"
   ]
  },
  {
   "cell_type": "code",
   "execution_count": null,
   "id": "8aa643c2",
   "metadata": {},
   "outputs": [],
   "source": [
    "seg_time=[] ### Segmentation timestamp\n",
    "image_median=[] ### Median intensity\n",
    "high_t=[] ### High value of hysteresis thresholding\n",
    "filt2_count=[] ### Amount of objects filterted (experimental)"
   ]
  },
  {
   "cell_type": "markdown",
   "id": "aa324525",
   "metadata": {},
   "source": [
    "### Segmentation parameters"
   ]
  },
  {
   "cell_type": "markdown",
   "id": "76cd0744-2e29-4c36-9109-159bea44976e",
   "metadata": {},
   "source": [
    "Adjust the segmentation parameters "
   ]
  },
  {
   "cell_type": "code",
   "execution_count": null,
   "id": "fe36862a",
   "metadata": {},
   "outputs": [],
   "source": [
    "### Gaussian blur\n",
    "gauss=3\n",
    "### Parameters for Canny edge detection\n",
    "t_mult=1 ### High threshold multiplier for hysteresis thresholding\n",
    "sigma=0.8 ### Canny sigma\n",
    "low_threshold=0 ### Low threshold value for hysteresis thresholding\n",
    "### Additional filters\n",
    "size=100 ### area in pixel\n",
    "aspect_ratio=5"
   ]
  },
  {
   "cell_type": "code",
   "execution_count": null,
   "id": "2893a456-ddc2-4d92-a70f-f4cbc4a720f9",
   "metadata": {},
   "outputs": [],
   "source": [
    "### Use this to only segment certain files in each category. Switch out \"selected\" for \"names\" in \"Segmentation loop\" below. \n",
    "selected = [names[1], names[3], names[5], names[8]]\n",
    "selected"
   ]
  },
  {
   "cell_type": "markdown",
   "id": "563ffc19-4d85-4d2f-8446-8edf2b25162a",
   "metadata": {},
   "source": [
    "#### Measure process time"
   ]
  },
  {
   "cell_type": "code",
   "execution_count": null,
   "id": "d1ce8400-b332-4297-b828-f3c6e9dad717",
   "metadata": {},
   "outputs": [],
   "source": [
    "start_all = time.time()"
   ]
  },
  {
   "cell_type": "markdown",
   "id": "936c3979-d8ed-43c9-96cd-39e7868990c1",
   "metadata": {},
   "source": [
    "#### Segmentation loop"
   ]
  },
  {
   "cell_type": "markdown",
   "id": "a9e49702-02f9-4f92-90d6-88af1cb26736",
   "metadata": {},
   "source": [
    "The following for-loop automatically loads and segments all the images included in the choosen directory (or selected names above)."
   ]
  },
  {
   "cell_type": "code",
   "execution_count": null,
   "id": "a8702c7c",
   "metadata": {
    "scrolled": true
   },
   "outputs": [],
   "source": [
    "a=0\n",
    "for img in names: ### Put \"selected\" instead of \"names\" here to segment above selected images.\n",
    "    now=time.strftime(\"%d%m%Y-%H%M\")\n",
    "    seg_time.append(now)\n",
    "    ##############Load the image##############\n",
    "    original = cv2.imread(f\"{img_path+img}.tif\", cv2.IMREAD_GRAYSCALE) ### change .tif to .png etc... depending on the type of your images\n",
    "    ##############Pre processing##############\n",
    "    img_gauss = cv2.GaussianBlur(original,(gauss,gauss), cv2.BORDER_DEFAULT)\n",
    "    ##############Edge detection Nr1##########\n",
    "    med_intensity=np.median(original)\n",
    "    image_median.append(med_intensity)\n",
    "    high_threshold=med_intensity*t_mult\n",
    "    high_t.append(high_threshold)\n",
    "    ##########################################\n",
    "    canny_1 = img_as_ubyte(canny(img_gauss,sigma,low_threshold,high_threshold))\n",
    "    #cv2.imwrite(f\"{path_edges}/{names[a]}_edges_S1.png\", canny_1) ### Saves the first edge map\n",
    "    ##############Fillholes Nr1###############\n",
    "    closed_1=binary_closing(canny_1,footprint=square(1))\n",
    "    fillholes_1=ndi.binary_fill_holes(closed_1)\n",
    "    ##############Erode the image Nr1#########\n",
    "    copy_1=fillholes_1.copy()\n",
    "    eroded_1=binary_erosion(fillholes_1, out=copy_1) ### To prevent \"tails\" for the cases where an air hydrate is on a grain boundary.\n",
    "    mask_1=~eroded_1 ### Inverse of eroded image\n",
    "    image_1=img_as_ubyte(np.where(eroded_1 > 0, 255, eroded_1)) ### Set 1 to 255 for saving the image.\n",
    "    ### Save SM1 ###\n",
    "    cv2.imwrite(f\"{path_segmented}/{names[a]}_segmented_S1.tif\", image_1) ### IMPORTANT!!! image #S1, used for filtering step in a new jupyter notebook.\n",
    "    ##############Edge detection Nr2##########\n",
    "    canny_2 = img_as_ubyte(canny(img_gauss,sigma,low_threshold,high_threshold,mask=mask_1)) ### Uses S1 image as mask.\n",
    "    ##############Fillholes Nr2###############\n",
    "    fillholes_2=ndi.binary_fill_holes(canny_2)\n",
    "    ##############Label the image#############\n",
    "    img_label_2=measure.label(fillholes_2>0)\n",
    "    ##############Regionproperties############\n",
    "    props_2=measure.regionprops_table(img_label_2,original,\n",
    "    properties=(\"label\",\"area\",\"coords\",\"axis_minor_length\",\"axis_major_length\"))\n",
    "    ##############Filter the data aspect-ratio#############\n",
    "    ### Get objects that are bigger than \"size\" and have an AR bigger than \"aspect_ratio\".\n",
    "    data_2=pd.DataFrame(props_2)\n",
    "    data_filtered_2=data_2.copy()\n",
    "    data_filtered_2[\"AR\"] = (data_filtered_2[\"axis_major_length\"])/(data_filtered_2[\"axis_minor_length\"])\n",
    "    data_filtered_2=data_filtered_2[data_filtered_2[\"area\"]>size]\n",
    "    data_filtered_2=data_filtered_2[data_filtered_2[\"AR\"]>aspect_ratio]\n",
    "    filter2_count = len(data_filtered_2) ### Count the amount of objects filtered in this step (experimental)\n",
    "    filt2_count.append(filter2_count)\n",
    "    ##############Create the mask#############\n",
    "    ### Create a mask with objects that are bigger than \"size\" and have an AR bigger than \"aspect_ratio\".\n",
    "    x_2=data_filtered_2[\"coords\"].to_numpy(copy=True)\n",
    "    mask_2=np.ones(original.shape, dtype=np.uint8)\n",
    "    for y in x_2:\n",
    "        for coord in y:\n",
    "            mask_2[coord[0],coord[1]]=0\n",
    "    save_mask_2=img_as_ubyte(np.where((mask_2==0),255,0))\n",
    "    #cv2.imwrite(f\"{path_edges}/{names[a]}_mask_S2.png\", save_mask_2) ### Save image of filtered objects by \"aspect_ratio\".\n",
    "    ###########################################\n",
    "    edges_3=img_as_ubyte(np.where(((canny_2==0) | (mask_2==0)),0,1))\n",
    "    save_edges_3 = np.where(edges_3> 0, 255, edges_3) ### Set 1 to 255 for saving the image.\n",
    "    #cv2.imwrite(f\"{path_edges}/{names[a]}_edges_S3.png\", save_edges_3) ### Saves the second edge map\n",
    "    ###########################################\n",
    "    ##############Fillholes Nr3#########\n",
    "    ### \"Force\"-close edges with a disk structuring element.\n",
    "    dilated = dilation(edges_3, disk(3)) #square(5)\n",
    "    skele = skeletonize(dilated)\n",
    "    skele = img_as_ubyte(skele)\n",
    "    fillholes_3 = img_as_ubyte(ndi.binary_fill_holes(skele))\n",
    "    ##############Erode the image Nr3#########\n",
    "    copy_3 = fillholes_3.copy()\n",
    "    eroded_3 = binary_erosion(fillholes_3, out=copy_3) ### To prevent \"tails\" for the cases where an air hydrate is on a grain boundary.\n",
    "    image_3 = np.where(eroded_3 > 0, 255, eroded_3)\n",
    "    ### Save SM2 ###\n",
    "    cv2.imwrite(f\"{path_segmented}/{names[a]}_segmented_S3.tif\", image_3) ### IMPORTANT!!! image #S3, used for filtering step in a new jupyter notebook.\n",
    "    ###########################################\n",
    "    r = img_as_ubyte(image_1)\n",
    "    g = img_as_ubyte(save_mask_2)\n",
    "    b = image_3\n",
    "    bgr = cv2.merge((b,g,r))\n",
    "    new = cv2.cvtColor(original,cv2.COLOR_GRAY2BGR)\n",
    "    final = cv2.addWeighted(new,0.6,bgr,0.4,0)\n",
    "    cv2.imwrite(f\"{path_visual}/{names[a]}_visual_test.jpg\",final) ### Saves an image (jpg) for a first visual assessment.\n",
    "    a=a+1"
   ]
  },
  {
   "cell_type": "markdown",
   "id": "4e66a27f-c030-4f24-8241-ddb31d967145",
   "metadata": {},
   "source": [
    "#### Total time elapsed"
   ]
  },
  {
   "cell_type": "markdown",
   "id": "4b0e1675-666c-4a03-9657-ce90bf34222d",
   "metadata": {},
   "source": [
    "Print the time needed to finish the segmentation step"
   ]
  },
  {
   "cell_type": "code",
   "execution_count": null,
   "id": "d6728bd5-f675-4f23-9ebd-1e53e07cd792",
   "metadata": {},
   "outputs": [],
   "source": [
    "end_all = time.time()\n",
    "time_all = (end_all-start_all)"
   ]
  },
  {
   "cell_type": "code",
   "execution_count": null,
   "id": "39733fa7-487f-4814-a065-658165975c0f",
   "metadata": {},
   "outputs": [],
   "source": [
    "print(\"Elapsed time:\", time_all, \"seconds\" )"
   ]
  },
  {
   "cell_type": "markdown",
   "id": "f64bf85d-ecef-44c1-a078-ec3a7d1d4a97",
   "metadata": {},
   "source": [
    "## Create metadata"
   ]
  },
  {
   "cell_type": "markdown",
   "id": "d5e9220a-5d3b-4f3e-8a07-c14cc6df12ac",
   "metadata": {},
   "source": [
    "Saves the metadata as .csv file"
   ]
  },
  {
   "cell_type": "code",
   "execution_count": null,
   "id": "285cb44b-0bb4-4ce2-87e3-1147863c06ed",
   "metadata": {},
   "outputs": [],
   "source": [
    "### Change \"names\" to \"selected\" as index if you chose to segment selected images.\n",
    "metadata = pd.DataFrame(columns=['time', 'image_median','gauss','canny_sigma','canny_low','multiplier','canny_high',\n",
    "                                 '>area','>aspect-ratio','filtered_AR'],index=names)"
   ]
  },
  {
   "cell_type": "code",
   "execution_count": null,
   "id": "80b1769e",
   "metadata": {},
   "outputs": [],
   "source": [
    "metadata['time'] = seg_time\n",
    "metadata['image_median'] = image_median\n",
    "##\n",
    "metadata.loc[:,'gauss'] = gauss\n",
    "##\n",
    "metadata.loc[:,'canny_sigma'] = sigma\n",
    "metadata.loc[:,'canny_low'] = low_threshold\n",
    "metadata.loc[:,'multiplier'] = t_mult\n",
    "metadata['canny_high'] = high_t\n",
    "##\n",
    "metadata.loc[:,'>area'] = size\n",
    "metadata.loc[:,'>aspect-ratio'] = aspect_ratio\n",
    "metadata['filtered_AR'] = filt2_count"
   ]
  },
  {
   "cell_type": "code",
   "execution_count": null,
   "id": "8d1055bc-3a6c-4308-8ae6-a980be7f23c2",
   "metadata": {},
   "outputs": [],
   "source": [
    "metadata.head()"
   ]
  },
  {
   "cell_type": "code",
   "execution_count": null,
   "id": "9188ae50",
   "metadata": {},
   "outputs": [],
   "source": [
    "metadata.to_csv(f\"{path_main}/{category}/{category}_metadata_{today}.csv\",sep=\";\")"
   ]
  },
  {
   "cell_type": "markdown",
   "id": "e594ca27-9545-4813-a660-1c52808b94bc",
   "metadata": {},
   "source": [
    "# Finished"
   ]
  },
  {
   "cell_type": "code",
   "execution_count": null,
   "id": "dd2bcb2c-cc3a-4443-88ff-73c276c33931",
   "metadata": {},
   "outputs": [],
   "source": []
  }
 ],
 "metadata": {
  "kernelspec": {
   "display_name": "Python 3 (ipykernel)",
   "language": "python",
   "name": "python3"
  },
  "language_info": {
   "codemirror_mode": {
    "name": "ipython",
    "version": 3
   },
   "file_extension": ".py",
   "mimetype": "text/x-python",
   "name": "python",
   "nbconvert_exporter": "python",
   "pygments_lexer": "ipython3",
   "version": "3.10.13"
  }
 },
 "nbformat": 4,
 "nbformat_minor": 5
}
