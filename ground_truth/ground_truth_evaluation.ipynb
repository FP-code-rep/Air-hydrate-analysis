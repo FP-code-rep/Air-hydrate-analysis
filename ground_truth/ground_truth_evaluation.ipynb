{
 "cells": [
  {
   "cell_type": "markdown",
   "id": "cbabf743-934e-4635-9b55-7d1bba058b04",
   "metadata": {},
   "source": [
    "# Ground truth evaluation"
   ]
  },
  {
   "cell_type": "markdown",
   "id": "f8dd1e25-8930-4f6f-b59e-626fc101669a",
   "metadata": {},
   "source": [
    "#### Import the necessary packages"
   ]
  },
  {
   "cell_type": "code",
   "execution_count": null,
   "id": "72ebb065-03a5-4d2c-840f-f1f0672e2f2a",
   "metadata": {},
   "outputs": [],
   "source": [
    "import cv2\n",
    "###################################################\n",
    "import numpy as np\n",
    "import matplotlib.pyplot as plt\n",
    "from scipy import ndimage as ndi\n",
    "import pandas as pd\n",
    "###################################################\n",
    "from skimage import data\n",
    "from skimage import img_as_float, img_as_ubyte\n",
    "from skimage.measure import label, regionprops, regionprops_table\n",
    "###################################################\n",
    "import glob\n",
    "import time\n",
    "import os\n",
    "import sys\n",
    "from pathlib import Path\n",
    "###################################################\n",
    "import sklearn\n",
    "from sklearn.metrics import accuracy_score, balanced_accuracy_score, precision_score, recall_score\n",
    "from sklearn.metrics import f1_score, jaccard_score\n",
    "from sklearn.metrics import confusion_matrix, ConfusionMatrixDisplay"
   ]
  },
  {
   "cell_type": "markdown",
   "id": "8f2d1161-5510-4231-bcdd-6e08d09fdf6c",
   "metadata": {},
   "source": [
    "#### Version control"
   ]
  },
  {
   "cell_type": "code",
   "execution_count": null,
   "id": "6da3372d-eef6-4074-a8bb-d832be62daa5",
   "metadata": {},
   "outputs": [],
   "source": [
    "from datetime import date \n",
    "today = date.today().isoformat()\n",
    "\n",
    "print(f\"Notebook last run in {today}\")"
   ]
  },
  {
   "cell_type": "code",
   "execution_count": null,
   "id": "c5c35578-ed23-47db-a0ac-b4ea4fe68ec2",
   "metadata": {},
   "outputs": [],
   "source": [
    "sklearn.__version__ #scikit-learn"
   ]
  },
  {
   "cell_type": "markdown",
   "id": "f1febf3d-cc53-4392-b7f4-8c1525c36220",
   "metadata": {},
   "source": [
    "### Last edited: 20.06.2024"
   ]
  },
  {
   "cell_type": "code",
   "execution_count": null,
   "id": "2c400e0a-af72-40ca-9979-dcada06b40d4",
   "metadata": {},
   "outputs": [],
   "source": [
    "today = time.strftime(\"%d_%m_%Y\")\n",
    "today"
   ]
  },
  {
   "cell_type": "markdown",
   "id": "f91c7cde-425b-4644-b8a1-1a2819cdd5e7",
   "metadata": {},
   "source": [
    "## Load images"
   ]
  },
  {
   "cell_type": "markdown",
   "id": "618f5a3b-2329-4c49-bb74-bdbc02efa445",
   "metadata": {},
   "source": [
    "All the necessary images should be in a folder called \"sample_nr\" (e.g. 2266)."
   ]
  },
  {
   "cell_type": "code",
   "execution_count": null,
   "id": "7ca81bce-28b4-4ca3-9cf5-5b374488f09f",
   "metadata": {},
   "outputs": [],
   "source": [
    "sample_nr = \"2266\""
   ]
  },
  {
   "cell_type": "code",
   "execution_count": null,
   "id": "0b3c51b5-fb93-4aee-9728-276efb4d1df8",
   "metadata": {},
   "outputs": [],
   "source": [
    "original = cv2.imread(f\"{sample_nr}/2266.11C_crop_GT.tif\", cv2.IMREAD_GRAYSCALE)"
   ]
  },
  {
   "cell_type": "code",
   "execution_count": null,
   "id": "5cf0681c-83ff-4006-9efc-497a68ae5280",
   "metadata": {},
   "outputs": [],
   "source": [
    "plt.imshow(original, cmap=\"gray\")"
   ]
  },
  {
   "cell_type": "code",
   "execution_count": null,
   "id": "cf45fb24-5439-4baf-a338-dc165a99bcff",
   "metadata": {},
   "outputs": [],
   "source": [
    "img_true = cv2.imread(f\"{sample_nr}/all_labels_{sample_nr}.png\", cv2.IMREAD_GRAYSCALE)"
   ]
  },
  {
   "cell_type": "code",
   "execution_count": null,
   "id": "05ba10d3-e8b3-44ea-bd3f-d5e25ba58dbd",
   "metadata": {},
   "outputs": [],
   "source": [
    "img_test = cv2.imread(f\"{sample_nr}/2266.11C_segmented.png\", cv2.IMREAD_GRAYSCALE)"
   ]
  },
  {
   "cell_type": "code",
   "execution_count": null,
   "id": "be2dbcab-661b-4519-af67-1eaa3cfd6c22",
   "metadata": {},
   "outputs": [],
   "source": [
    "img_above = cv2.imread(f\"{sample_nr}/AF_{sample_nr}.png\", cv2.IMREAD_GRAYSCALE)\n",
    "img_focus = cv2.imread(f\"{sample_nr}/focus_{sample_nr}.png\", cv2.IMREAD_GRAYSCALE)\n",
    "img_below = cv2.imread(f\"{sample_nr}/BF_{sample_nr}.png\", cv2.IMREAD_GRAYSCALE)\n",
    "img_orange = cv2.imread(f\"{sample_nr}/FOF_{sample_nr}.png\", cv2.IMREAD_GRAYSCALE)\n",
    "img_blue = cv2.imread(f\"{sample_nr}/X_{sample_nr}.png\", cv2.IMREAD_GRAYSCALE)"
   ]
  },
  {
   "cell_type": "code",
   "execution_count": null,
   "id": "c835d508-bf4c-44cd-a211-ecb32502172b",
   "metadata": {},
   "outputs": [],
   "source": [
    "plt.imshow(img_true)"
   ]
  },
  {
   "cell_type": "code",
   "execution_count": null,
   "id": "3d20dc92-32a1-4ee8-95ec-abefab788f0b",
   "metadata": {},
   "outputs": [],
   "source": [
    "plt.imshow(img_test)"
   ]
  },
  {
   "cell_type": "markdown",
   "id": "adc5c441-b360-400a-8372-9fe9094f9584",
   "metadata": {},
   "source": [
    "## Calculate full-image segmentation metrics"
   ]
  },
  {
   "cell_type": "code",
   "execution_count": null,
   "id": "d4055486-71ca-412c-8793-1bc42e82c7ad",
   "metadata": {},
   "outputs": [],
   "source": [
    "### Shape of the GT-image (Y,X)\n",
    "shap = img_true.shape\n",
    "shap"
   ]
  },
  {
   "cell_type": "code",
   "execution_count": null,
   "id": "801039f9-f181-44ef-ae96-aad1369470e6",
   "metadata": {},
   "outputs": [],
   "source": [
    "true_label=label(img_true>0) ###Ground truth\n",
    "test_label=label(img_test>0) ###Segmented image"
   ]
  },
  {
   "cell_type": "code",
   "execution_count": null,
   "id": "f8fbcbb2-b90f-4a03-a4da-e6117534b746",
   "metadata": {},
   "outputs": [],
   "source": [
    "true_obj = np.max(true_label)\n",
    "seg_obj = np.max(test_label)\n",
    "print(true_obj,seg_obj)"
   ]
  },
  {
   "cell_type": "code",
   "execution_count": null,
   "id": "ceed97b7-8a58-4216-b9f7-fbd065dde1d3",
   "metadata": {},
   "outputs": [],
   "source": [
    "img_true_reshape = img_true.reshape(-1)\n",
    "img_test_reshape = img_test.reshape(-1)"
   ]
  },
  {
   "cell_type": "code",
   "execution_count": null,
   "id": "fd3fda66-fff1-4470-bb5b-24dd9e460513",
   "metadata": {},
   "outputs": [],
   "source": [
    "CM = confusion_matrix(img_true_reshape,img_test_reshape)"
   ]
  },
  {
   "cell_type": "code",
   "execution_count": null,
   "id": "48c35eb5-907f-4855-b095-27af849d67fa",
   "metadata": {},
   "outputs": [],
   "source": [
    "acc = (CM[1][1]+CM[0][0])/(CM[1][1]+CM[0][0]+CM[0][1]+CM[1][0])\n",
    "print(f\"Accuracy: {acc}\")"
   ]
  },
  {
   "cell_type": "code",
   "execution_count": null,
   "id": "9c962544-e0b2-4568-b015-c63b9bd0e956",
   "metadata": {},
   "outputs": [],
   "source": [
    "bacc = balanced_accuracy_score(img_true_reshape,img_test_reshape)\n",
    "print(f\"Balanced accuracy: {bacc}\")"
   ]
  },
  {
   "cell_type": "code",
   "execution_count": null,
   "id": "8641b6b1-96f1-4533-a487-36fac3596b94",
   "metadata": {},
   "outputs": [],
   "source": [
    "prec = (CM[1][1])/(CM[1][1]+CM[0][1])\n",
    "print(f\"Precision: {prec}\")"
   ]
  },
  {
   "cell_type": "code",
   "execution_count": null,
   "id": "161bce09-bfae-4c0c-ab2b-e648af8878aa",
   "metadata": {},
   "outputs": [],
   "source": [
    "rec = (CM[1][1])/(CM[1][1]+CM[1][0])\n",
    "print(f\"Recall: {rec}\")"
   ]
  },
  {
   "cell_type": "code",
   "execution_count": null,
   "id": "7f530c0d-bf7f-45bd-858e-45b502790c6e",
   "metadata": {},
   "outputs": [],
   "source": [
    "f1 = f1_score(img_true_reshape,img_test_reshape,pos_label=255)\n",
    "print(f\"F1-score: {f1}\")"
   ]
  },
  {
   "cell_type": "markdown",
   "id": "370c92e5-ca18-47bc-a5e1-487aaac4ce69",
   "metadata": {},
   "source": [
    "## Visualize single objects"
   ]
  },
  {
   "cell_type": "markdown",
   "id": "dcec3b18-4b81-4167-8be6-a9de4e6297ec",
   "metadata": {},
   "source": [
    "#### Ground truth and Segmented image"
   ]
  },
  {
   "cell_type": "code",
   "execution_count": null,
   "id": "db565a6f-a441-4959-ba57-02f306450138",
   "metadata": {},
   "outputs": [],
   "source": [
    "true_label=label(img_true>0) ###Ground truth\n",
    "test_label=label(img_test>0) ###Segmented image"
   ]
  },
  {
   "cell_type": "code",
   "execution_count": null,
   "id": "8d8177c8-8aa6-4b78-90e2-bfc5235dbd32",
   "metadata": {},
   "outputs": [],
   "source": [
    "true_obj = np.max(true_label)\n",
    "seg_obj = np.max(test_label)\n",
    "print(true_obj,seg_obj)"
   ]
  },
  {
   "cell_type": "code",
   "execution_count": null,
   "id": "03909d84-732e-45fb-914a-153069dcf7e7",
   "metadata": {},
   "outputs": [],
   "source": [
    "true_props=regionprops(true_label,original)\n",
    "test_props=regionprops(test_label,original)"
   ]
  },
  {
   "cell_type": "code",
   "execution_count": null,
   "id": "6b1760bc-3703-43ac-ac99-893582272ce2",
   "metadata": {},
   "outputs": [],
   "source": [
    "print(len(true_props),len(test_props))"
   ]
  },
  {
   "cell_type": "code",
   "execution_count": null,
   "id": "39bd5ecf-d77a-4ba7-b8e9-4d0d373f2cab",
   "metadata": {},
   "outputs": [],
   "source": [
    "### Choose an air hydrate number to compare labeled and segmented\n",
    "hydrate = 13"
   ]
  },
  {
   "cell_type": "code",
   "execution_count": null,
   "id": "773b78b0-1316-471e-b889-7c6d8f938df7",
   "metadata": {},
   "outputs": [],
   "source": [
    "base_true=np.zeros(img_true.shape, dtype=np.uint8)\n",
    "base_test=np.zeros(img_test.shape, dtype=np.uint8)"
   ]
  },
  {
   "cell_type": "code",
   "execution_count": null,
   "id": "e2f08a7b-bcc3-4152-845a-422f709b0316",
   "metadata": {},
   "outputs": [],
   "source": [
    "coordinates_true = true_props[hydrate][\"coords\"]\n",
    "coordinates_test = test_props[hydrate][\"coords\"]"
   ]
  },
  {
   "cell_type": "code",
   "execution_count": null,
   "id": "b60c2ac9-4caa-4469-b91b-30be12c41e68",
   "metadata": {},
   "outputs": [],
   "source": [
    "for coord in coordinates_true: \n",
    "        base_true[coord[0],coord[1]]=255"
   ]
  },
  {
   "cell_type": "code",
   "execution_count": null,
   "id": "3fdc1d78-88b1-4f31-9beb-46c6561b65c6",
   "metadata": {},
   "outputs": [],
   "source": [
    "for coord in coordinates_test: \n",
    "        base_test[coord[0],coord[1]]=255"
   ]
  },
  {
   "cell_type": "markdown",
   "id": "7b8c17eb-9f15-4556-84da-972a7cf4685c",
   "metadata": {},
   "source": [
    "#### Set bounding box expansion"
   ]
  },
  {
   "cell_type": "code",
   "execution_count": null,
   "id": "a17c800b-9203-4314-a367-8340ebe5b4c6",
   "metadata": {},
   "outputs": [],
   "source": [
    "bounding_box = 12"
   ]
  },
  {
   "cell_type": "code",
   "execution_count": null,
   "id": "31809809-8348-4b89-aa87-efc26c4a0927",
   "metadata": {},
   "outputs": [],
   "source": [
    "transposed = np.transpose(coordinates_true)"
   ]
  },
  {
   "cell_type": "code",
   "execution_count": null,
   "id": "e87cc55a-a0a4-4d7d-a745-b9555ac95b7f",
   "metadata": {},
   "outputs": [],
   "source": [
    "if (np.min(transposed[0])-(bounding_box+1)) < 0:\n",
    "    xmin = np.min(transposed[0]) \n",
    "else:\n",
    "    xmin = np.min(transposed[0]) - bounding_box\n",
    "if (np.max(transposed[0])+(bounding_box+1)) > (shap[0]):\n",
    "    xmax = np.max(transposed[0]) \n",
    "else:\n",
    "    xmax = np.max(transposed[0]) + bounding_box"
   ]
  },
  {
   "cell_type": "code",
   "execution_count": null,
   "id": "af09a817-8755-4be5-baea-7c1ae24f9660",
   "metadata": {},
   "outputs": [],
   "source": [
    "if (np.min(transposed[1])-(bounding_box+1)) < 0:\n",
    "    ymin = np.min(transposed[1]) \n",
    "else:\n",
    "    ymin = np.min(transposed[1]) - bounding_box\n",
    "if (np.max(transposed[1])+(bounding_box+1)) > (shap[1]):\n",
    "    ymax = np.max(transposed[1]) \n",
    "else:\n",
    "    ymax = np.max(transposed[1]) + bounding_box"
   ]
  },
  {
   "cell_type": "code",
   "execution_count": null,
   "id": "51631a8c-94dd-43f5-9faa-6e40ea2519e2",
   "metadata": {},
   "outputs": [],
   "source": [
    "print(xmin,xmax,ymin,ymax)"
   ]
  },
  {
   "cell_type": "code",
   "execution_count": null,
   "id": "461f5239-141a-4ddd-adaa-d83f192bd88a",
   "metadata": {},
   "outputs": [],
   "source": [
    "background = np.zeros(base_true[xmin:xmax,ymin:ymax].shape, dtype=np.uint8)"
   ]
  },
  {
   "cell_type": "code",
   "execution_count": null,
   "id": "86b65a68-7aea-4684-994e-81fc7726b589",
   "metadata": {},
   "outputs": [],
   "source": [
    "r=img_as_ubyte(base_true[xmin:xmax,ymin:ymax])\n",
    "g=background\n",
    "b=background"
   ]
  },
  {
   "cell_type": "code",
   "execution_count": null,
   "id": "66fdc67f-5e5f-42d3-a590-37c7898dfa14",
   "metadata": {},
   "outputs": [],
   "source": [
    "bgr=cv2.merge((b,g,r))"
   ]
  },
  {
   "cell_type": "code",
   "execution_count": null,
   "id": "eb7242ae-bc0b-4c1d-84fd-b8bb7d9c09a4",
   "metadata": {},
   "outputs": [],
   "source": [
    "new=cv2.cvtColor(original[xmin:xmax,ymin:ymax],cv2.COLOR_GRAY2BGR)"
   ]
  },
  {
   "cell_type": "code",
   "execution_count": null,
   "id": "0bb39a50-14e8-48bf-a133-be18567e2480",
   "metadata": {},
   "outputs": [],
   "source": [
    "visual_test = cv2.addWeighted(new,0.6,bgr,0.4,0)"
   ]
  },
  {
   "cell_type": "markdown",
   "id": "ff01f75c-71fe-46e7-965b-ad5558ee0713",
   "metadata": {},
   "source": [
    "#### Plot"
   ]
  },
  {
   "cell_type": "code",
   "execution_count": null,
   "id": "f43c28f1-0214-45e7-88f0-6c8061888cd5",
   "metadata": {},
   "outputs": [],
   "source": [
    "# create figure \n",
    "fig = plt.figure(figsize=(12, 12)) \n",
    "  \n",
    "# setting values to rows and column variables\n",
    "rows = 1\n",
    "columns = 4\n",
    "  \n",
    "# Adds a subplot at the 1st position \n",
    "fig.add_subplot(rows, columns, 1) \n",
    "  \n",
    "# showing image \n",
    "plt.imshow(base_true[xmin:xmax,ymin:ymax], cmap=\"gray\")\n",
    "#plt.axis('off') \n",
    "plt.title(\"Ground truth\") \n",
    "  \n",
    "# Adds a subplot at the 2nd position \n",
    "fig.add_subplot(rows, columns, 2) \n",
    "  \n",
    "# showing image \n",
    "plt.imshow(img_test[xmin:xmax,ymin:ymax],cmap=\"gray\")\n",
    "plt.axis('off') \n",
    "plt.title(\"Segmentation\") \n",
    "  \n",
    "# Adds a subplot at the 3rd position \n",
    "fig.add_subplot(rows, columns, 3) \n",
    "  \n",
    "# showing image \n",
    "plt.imshow(original[xmin:xmax,ymin:ymax],cmap=\"gray\")\n",
    "plt.axis('off') \n",
    "plt.title(\"Original\")\n",
    "\n",
    "# Adds a subplot at the 4th position \n",
    "fig.add_subplot(rows, columns, 4) \n",
    "  \n",
    "# showing image \n",
    "plt.imshow(visual_test)\n",
    "plt.axis('off') \n",
    "plt.title(\"Hand labeled\")"
   ]
  },
  {
   "cell_type": "markdown",
   "id": "dcf2438e-8d85-451a-91f5-5098360fe12f",
   "metadata": {},
   "source": [
    "placeholder"
   ]
  },
  {
   "cell_type": "markdown",
   "id": "464f18c1-d58e-433b-81a2-9c7b29d93603",
   "metadata": {},
   "source": [
    "placeholder"
   ]
  },
  {
   "cell_type": "markdown",
   "id": "969eee58-6160-49db-8414-1ff6d2099a17",
   "metadata": {},
   "source": [
    "# Compare each object"
   ]
  },
  {
   "cell_type": "markdown",
   "id": "75f13f17-30cb-4ee4-8735-a02c6c61fb37",
   "metadata": {},
   "source": [
    "### Define functions"
   ]
  },
  {
   "cell_type": "code",
   "execution_count": null,
   "id": "df53c72f-b0e5-40c0-975d-c386978ce6a3",
   "metadata": {},
   "outputs": [],
   "source": [
    "def func(nr_obj,img_true,true_props,img_test,bbox_size,a,true_area,slize,TP,TN,FP,FN):\n",
    "    for amount in range(nr_obj):\n",
    "        base_true=np.zeros(img_true.shape, dtype=np.uint8)\n",
    "        coordinates = true_props[a][\"coords\"]\n",
    "        for coord in coordinates: \n",
    "            base_true[coord[0],coord[1]]=255\n",
    "        transposed = np.transpose(coordinates)\n",
    "        if (np.min(transposed[0])-(bbox_size+1)) < 0:\n",
    "            xmin = np.min(transposed[0]) \n",
    "        else:\n",
    "            xmin = np.min(transposed[0]) - bbox_size\n",
    "        if (np.max(transposed[0])+(bbox_size+1)) > (shap[0]):\n",
    "            xmax = np.max(transposed[0]) \n",
    "        else:\n",
    "            xmax = np.max(transposed[0]) + bbox_size\n",
    "        if (np.min(transposed[1])-(bbox_size+1)) < 0:\n",
    "            ymin = np.min(transposed[1]) \n",
    "        else:\n",
    "            ymin = np.min(transposed[1]) - bbox_size\n",
    "        if (np.max(transposed[1])+(bbox_size+1)) > (shap[1]):\n",
    "            ymax = np.max(transposed[1]) \n",
    "        else:\n",
    "            ymax = np.max(transposed[1]) + bbox_size\n",
    "        true_crop = base_true[xmin:xmax,ymin:ymax]\n",
    "        seg_crop = img_test[xmin:xmax,ymin:ymax]\n",
    "        true_crop_reshape = true_crop.reshape(-1)\n",
    "        seg_reshape=seg_crop.reshape(-1)\n",
    "        CM = confusion_matrix(true_crop_reshape,seg_reshape)\n",
    "        true_area.append(true_props[a][\"area\"])\n",
    "        slize.append(true_props[a][\"slice\"])\n",
    "        TP.append(CM[1][1])\n",
    "        TN.append(CM[0][0])\n",
    "        FP.append(CM[0][1])\n",
    "        FN.append(CM[1][0])\n",
    "        a=a+1"
   ]
  },
  {
   "cell_type": "code",
   "execution_count": null,
   "id": "86a222cf-f426-4481-98d5-53f91a3392aa",
   "metadata": {},
   "outputs": [],
   "source": [
    "def stats(true_area,slize,TP,TN,FP,FN,bboxx,r):\n",
    "    seg_img_data = pd.DataFrame()\n",
    "    seg_img_data[\"area\"] = true_area\n",
    "    seg_img_data[\"slice\"] = slize\n",
    "    seg_img_data[\"TP_full-image\"] = TP\n",
    "    seg_img_data[\"TN_full-image\"] = TN\n",
    "    seg_img_data[\"FP_full-image\"] = FP\n",
    "    seg_img_data[\"FN_full-image\"] = FN\n",
    "    seg_img_data[\"bounding_box\"] = bboxx\n",
    "    seg_img_data[\"full_precision\"] = seg_img_data[\"TP_full-image\"] / (seg_img_data[\"TP_full-image\"]+seg_img_data[\"FP_full-image\"])\n",
    "    seg_img_data[\"true_size\"] = seg_img_data[\"TP_full-image\"] + seg_img_data[\"FN_full-image\"]\n",
    "    seg_size = []\n",
    "    for obj in range(len(seg_img_data[\"TP_full-image\"])):\n",
    "        if seg_img_data[\"TP_full-image\"][r] > 0:\n",
    "            seg_ah_size = seg_img_data[\"TP_full-image\"][r]+seg_img_data[\"FP_full-image\"][r]\n",
    "            r = r+1\n",
    "        else:\n",
    "            seg_ah_size = 0\n",
    "            r = r+1\n",
    "        seg_size.append(seg_ah_size)\n",
    "    seg_img_data[\"seg_size\"] = seg_size\n",
    "    seg_img_data[\"diameter_gt\"] = 2 * np.sqrt(seg_img_data[\"area\"]/np.pi)\n",
    "    seg_img_data[\"diameter_seg\"] = 2 * np.sqrt(seg_img_data[\"seg_size\"]/np.pi)\n",
    "    seg_img_data[\"diameter_difference\"] = seg_img_data[\"diameter_seg\"] - seg_img_data[\"diameter_gt\"]\n",
    "    seg_img_data[\"diameter_difference_percent\"] = seg_img_data[\"diameter_difference\"] / seg_img_data[\"diameter_gt\"] * 100\n",
    "    seg_img_data[\"IoU\"] = seg_img_data[\"TP_full-image\"] / (seg_img_data[\"TP_full-image\"]+seg_img_data[\"FN_full-image\"]+seg_img_data[\"FP_full-image\"])\n",
    "    seg_img_data.fillna(0, inplace=True)\n",
    "    return seg_img_data"
   ]
  },
  {
   "cell_type": "markdown",
   "id": "b65a5143-d7d8-4446-bcca-1f704366b245",
   "metadata": {},
   "source": [
    "### Set bounding box expansion"
   ]
  },
  {
   "cell_type": "code",
   "execution_count": null,
   "id": "5954251b-3433-4a9c-ab87-3ab036fd3d51",
   "metadata": {},
   "outputs": [],
   "source": [
    "bboxx = 12"
   ]
  },
  {
   "cell_type": "markdown",
   "id": "bf8e0590-8846-49ec-bdfe-4d52b88da830",
   "metadata": {},
   "source": [
    "## Full image"
   ]
  },
  {
   "cell_type": "code",
   "execution_count": null,
   "id": "ab9a5cd8-7336-4363-a40e-8a64216096a0",
   "metadata": {},
   "outputs": [],
   "source": [
    "TP=[]\n",
    "TN=[]\n",
    "FP=[]\n",
    "FN=[]\n",
    "true_area=[]\n",
    "slize=[]"
   ]
  },
  {
   "cell_type": "code",
   "execution_count": null,
   "id": "f625cab5-4d63-4092-93ca-db2845714791",
   "metadata": {},
   "outputs": [],
   "source": [
    "st = time.time()"
   ]
  },
  {
   "cell_type": "code",
   "execution_count": null,
   "id": "9d4ce3bd-113f-4ccc-b576-d13fb0982003",
   "metadata": {},
   "outputs": [],
   "source": [
    "### Call and execute the earlier defined function\n",
    "func(len(true_props), img_true, true_props, img_test, bboxx, 0, true_area, slize, TP, TN, FP, FN)"
   ]
  },
  {
   "cell_type": "code",
   "execution_count": null,
   "id": "8d8da072-0074-469b-ac8e-e5c2bfca5613",
   "metadata": {},
   "outputs": [],
   "source": [
    "et = time.time()"
   ]
  },
  {
   "cell_type": "code",
   "execution_count": null,
   "id": "913b1c22-4cdb-4f1d-aaa2-08ee8f2dac68",
   "metadata": {},
   "outputs": [],
   "source": [
    "elapsed_time = et - st\n",
    "print('Execution time:', elapsed_time, 'seconds')"
   ]
  },
  {
   "cell_type": "code",
   "execution_count": null,
   "id": "60083912-50fe-4a7b-b8a6-88079989509f",
   "metadata": {},
   "outputs": [],
   "source": [
    "### Call and execute the earlier defined function\n",
    "data_full = stats(true_area,slize,TP,TN,FP,FN,bboxx,0)"
   ]
  },
  {
   "cell_type": "code",
   "execution_count": null,
   "id": "1b5d96fc-61f4-4204-9d40-16fe5379d136",
   "metadata": {},
   "outputs": [],
   "source": [
    "data_full[0:3]"
   ]
  },
  {
   "cell_type": "code",
   "execution_count": null,
   "id": "b81391ca-46fb-4051-9fe4-8b97a486fedf",
   "metadata": {},
   "outputs": [],
   "source": [
    "pos = len(data_full.loc[data_full['diameter_difference_percent'] > -100])\n",
    "pos"
   ]
  },
  {
   "cell_type": "markdown",
   "id": "e9c79ee2-7c13-4bfa-a8d6-2d1149c9c182",
   "metadata": {},
   "source": [
    "#### Save data"
   ]
  },
  {
   "cell_type": "code",
   "execution_count": null,
   "id": "347a6b6a-4933-47ad-81e0-e670fa2866e6",
   "metadata": {},
   "outputs": [],
   "source": [
    "now_II = time.strftime(\"%H-%M\")\n",
    "now_II"
   ]
  },
  {
   "cell_type": "code",
   "execution_count": null,
   "id": "af703cf9-6f5a-434a-83c5-32f109119329",
   "metadata": {},
   "outputs": [],
   "source": [
    "data_full.to_csv(f\"{sample_nr}_data-full_{today}_{now_II}.csv\",sep=\";\")"
   ]
  },
  {
   "cell_type": "code",
   "execution_count": null,
   "id": "62cfe3c9-e547-4626-a205-6a0e7beac835",
   "metadata": {},
   "outputs": [],
   "source": [
    "data_full[\"full_precision\"].plot(kind=\"hist\",bins=100)\n",
    "plt.title(\"Precision scores of each AH in GT- vs. seg-image\")\n",
    "plt.xlabel(\"Precision score\")\n",
    "plt.ylabel(\"Objects\")"
   ]
  },
  {
   "cell_type": "code",
   "execution_count": null,
   "id": "140f445a-4770-4243-b62d-060f4ad3dc6d",
   "metadata": {},
   "outputs": [],
   "source": [
    "print(f\"AH in GT: {true_obj}, Objects in SEG: {seg_obj}, AH erkannt: {pos/true_obj}({pos}), Artefacts: {(seg_obj-pos)/seg_obj}({seg_obj-pos})\")"
   ]
  },
  {
   "cell_type": "markdown",
   "id": "4adb796b-e302-4f2a-9b4e-9c9893334228",
   "metadata": {},
   "source": [
    "#### Compare mean diameters"
   ]
  },
  {
   "cell_type": "code",
   "execution_count": null,
   "id": "a5707398-2fb2-4718-8732-19f5e55f9cf8",
   "metadata": {},
   "outputs": [],
   "source": [
    "eq_sphere_diameter_gt = []\n",
    "eq_sphere_diameter_seg = []\n",
    "area_gt = []\n",
    "area_seg = []"
   ]
  },
  {
   "cell_type": "code",
   "execution_count": null,
   "id": "ba9b6527-7862-408b-b02c-e95ca2bd1f03",
   "metadata": {},
   "outputs": [],
   "source": [
    "for region in true_props:\n",
    "    size = region[\"equivalent_diameter_area\"]\n",
    "    eq_sphere_diameter_gt.append(size)"
   ]
  },
  {
   "cell_type": "code",
   "execution_count": null,
   "id": "19d77e59-9382-44ae-9d04-0aed12372ee2",
   "metadata": {},
   "outputs": [],
   "source": [
    "for region in test_props:\n",
    "    size = region[\"equivalent_diameter_area\"]\n",
    "    eq_sphere_diameter_seg.append(size)"
   ]
  },
  {
   "cell_type": "code",
   "execution_count": null,
   "id": "572d09c8-a6ea-46a5-8ca4-71492190e531",
   "metadata": {},
   "outputs": [],
   "source": [
    "mean_diameter_gt = np.mean(eq_sphere_diameter_gt)\n",
    "mean_diameter_seg = np.mean(eq_sphere_diameter_seg)\n",
    "std_diameter_gt = np.std(eq_sphere_diameter_gt)\n",
    "std_diameter_seg = np.std(eq_sphere_diameter_seg)"
   ]
  },
  {
   "cell_type": "code",
   "execution_count": null,
   "id": "a0be5a95-1b59-41e3-b889-b934a38ef881",
   "metadata": {},
   "outputs": [],
   "source": [
    "print(f\"Ground truth:{np.mean(eq_sphere_diameter_gt)}, Segmented:{np.mean(eq_sphere_diameter_seg)}\")"
   ]
  },
  {
   "cell_type": "code",
   "execution_count": null,
   "id": "81361a10-4f48-4d5a-bc8b-25ce24ea3765",
   "metadata": {},
   "outputs": [],
   "source": [
    "print(f\"Ground truth:{np.std(eq_sphere_diameter_gt)},Segmented:{np.std(eq_sphere_diameter_seg)}\")"
   ]
  },
  {
   "cell_type": "markdown",
   "id": "94cbe54c-6bb2-4026-a949-2a1c9f06abae",
   "metadata": {},
   "source": [
    "## Hydrates in focus"
   ]
  },
  {
   "cell_type": "code",
   "execution_count": null,
   "id": "5c8f7eda-6e29-40fe-bf61-aefb7a670a8e",
   "metadata": {},
   "outputs": [],
   "source": [
    "focus_label=label(img_focus>0) ### focus image\n",
    "focus_obj = np.max(focus_label)\n",
    "print(true_obj,focus_obj)"
   ]
  },
  {
   "cell_type": "code",
   "execution_count": null,
   "id": "cbb9d66d-5771-4956-9dcf-e93cc366f74f",
   "metadata": {},
   "outputs": [],
   "source": [
    "focus_props=regionprops(focus_label,original)"
   ]
  },
  {
   "cell_type": "code",
   "execution_count": null,
   "id": "2760b68b-f2f3-41ff-b53b-95fba41f407c",
   "metadata": {},
   "outputs": [],
   "source": [
    "TP_focus=[]\n",
    "TN_focus=[]\n",
    "FP_focus=[]\n",
    "FN_focus=[]\n",
    "area_focus=[]\n",
    "slize_focus=[]"
   ]
  },
  {
   "cell_type": "code",
   "execution_count": null,
   "id": "6cc836c6-359f-452c-8294-aa5d35b0d750",
   "metadata": {},
   "outputs": [],
   "source": [
    "func(len(focus_props), img_focus, focus_props, img_test, bboxx, 0, area_focus, slize_focus, \n",
    "     TP_focus, TN_focus, FP_focus, FN_focus)"
   ]
  },
  {
   "cell_type": "code",
   "execution_count": null,
   "id": "7c7de682-e921-4c5d-969e-0c30e66a0733",
   "metadata": {},
   "outputs": [],
   "source": [
    "data_focus = stats(area_focus, slize_focus, TP_focus, TN_focus, FP_focus, FN_focus, bboxx, 0)"
   ]
  },
  {
   "cell_type": "code",
   "execution_count": null,
   "id": "93de54d7-c1f1-4a3f-96bc-30499878cad6",
   "metadata": {},
   "outputs": [],
   "source": [
    "len(data_focus[\"area\"])"
   ]
  },
  {
   "cell_type": "code",
   "execution_count": null,
   "id": "e8aa8150-0db2-424b-9fcd-7b6c6f337151",
   "metadata": {},
   "outputs": [],
   "source": [
    "data_focus[0:3]"
   ]
  },
  {
   "cell_type": "code",
   "execution_count": null,
   "id": "d26256e9-bc2a-43a3-adb8-b538564f9377",
   "metadata": {},
   "outputs": [],
   "source": [
    "pos_focus = len(data_focus.loc[data_focus['diameter_difference_percent'] > -100])\n",
    "pos_focus"
   ]
  },
  {
   "cell_type": "markdown",
   "id": "c0439b96-e4a6-4bc5-9497-9c0407eefa73",
   "metadata": {},
   "source": [
    "## Above focus"
   ]
  },
  {
   "cell_type": "code",
   "execution_count": null,
   "id": "d4a601dc-164d-4bea-80e2-71932b6b6013",
   "metadata": {},
   "outputs": [],
   "source": [
    "above_label=label(img_above>0) ### AF image\n",
    "above_obj = np.max(above_label)\n",
    "print(true_obj,above_obj)"
   ]
  },
  {
   "cell_type": "code",
   "execution_count": null,
   "id": "ade77b60-8399-4a28-a71c-aa0517f604c3",
   "metadata": {},
   "outputs": [],
   "source": [
    "above_props=regionprops(above_label,original)"
   ]
  },
  {
   "cell_type": "code",
   "execution_count": null,
   "id": "7a5384eb-0867-4612-876a-c2682b4d00af",
   "metadata": {},
   "outputs": [],
   "source": [
    "TP_above=[]\n",
    "TN_above=[]\n",
    "FP_above=[]\n",
    "FN_above=[]\n",
    "area_above=[]\n",
    "slize_above=[]"
   ]
  },
  {
   "cell_type": "code",
   "execution_count": null,
   "id": "a231ab03-922a-4ad7-91da-dd099d3403d4",
   "metadata": {},
   "outputs": [],
   "source": [
    "func(len(above_props), img_above, above_props, img_test, bboxx, 0, area_above, slize_above, \n",
    "     TP_above, TN_above, FP_above, FN_above)"
   ]
  },
  {
   "cell_type": "code",
   "execution_count": null,
   "id": "0e88aaa3-0333-4f0c-bc54-75d444061fc4",
   "metadata": {},
   "outputs": [],
   "source": [
    "data_above = stats(area_above, slize_above, TP_above, TN_above, FP_above, FN_above, bboxx, 0)"
   ]
  },
  {
   "cell_type": "code",
   "execution_count": null,
   "id": "c0b3c976-9d3e-4116-9465-3bf6dfcc83c5",
   "metadata": {},
   "outputs": [],
   "source": [
    "data_above[\"area\"].count()"
   ]
  },
  {
   "cell_type": "code",
   "execution_count": null,
   "id": "c92b3580-b4d8-4c36-9d66-debba9ad61c8",
   "metadata": {},
   "outputs": [],
   "source": [
    "pos_above = len(data_above.loc[data_above['diameter_difference_percent'] > -100])\n",
    "pos_above"
   ]
  },
  {
   "cell_type": "markdown",
   "id": "f4cad20b-82e3-44a2-bd46-0e407933238b",
   "metadata": {},
   "source": [
    "## Below focus"
   ]
  },
  {
   "cell_type": "code",
   "execution_count": null,
   "id": "0e328c97-6289-4857-ae29-d6a1df255ff0",
   "metadata": {},
   "outputs": [],
   "source": [
    "below_label=label(img_below>0) ### BF image\n",
    "below_obj = np.max(below_label)\n",
    "print(true_obj,below_obj)"
   ]
  },
  {
   "cell_type": "code",
   "execution_count": null,
   "id": "36427b2f-a02e-4d21-bd9b-1973cb5f2b92",
   "metadata": {},
   "outputs": [],
   "source": [
    "below_props=regionprops(below_label,original)"
   ]
  },
  {
   "cell_type": "code",
   "execution_count": null,
   "id": "b9a66abb-f2b9-4af0-aa55-cfae5bddb6e3",
   "metadata": {},
   "outputs": [],
   "source": [
    "TP_below=[]\n",
    "TN_below=[]\n",
    "FP_below=[]\n",
    "FN_below=[]\n",
    "area_below=[]\n",
    "slize_below=[]"
   ]
  },
  {
   "cell_type": "code",
   "execution_count": null,
   "id": "b64fe332-b9ca-449a-bf2b-cbd62bcaa9ae",
   "metadata": {},
   "outputs": [],
   "source": [
    "func(len(below_props), img_below, below_props, img_test, bboxx, 0, area_below, slize_below, \n",
    "     TP_below, TN_below, FP_below, FN_below)"
   ]
  },
  {
   "cell_type": "code",
   "execution_count": null,
   "id": "3558e0b7-a134-4570-87ec-f0e86e68d7d7",
   "metadata": {},
   "outputs": [],
   "source": [
    "data_below = stats(area_below, slize_below, TP_below, TN_below, FP_below, FN_below, bboxx, 0)"
   ]
  },
  {
   "cell_type": "code",
   "execution_count": null,
   "id": "633c33c9-3a16-4dda-850c-6b7fbe7a2f04",
   "metadata": {},
   "outputs": [],
   "source": [
    "data_below[\"area\"].count()"
   ]
  },
  {
   "cell_type": "code",
   "execution_count": null,
   "id": "115f74cb-0e4d-4b1f-9bb3-822cc2216af0",
   "metadata": {},
   "outputs": [],
   "source": [
    "pos_below = len(data_below.loc[data_below['diameter_difference_percent'] > -100])\n",
    "pos_below"
   ]
  },
  {
   "cell_type": "markdown",
   "id": "76d22349-99dc-4c5d-9f70-37d5417e8493",
   "metadata": {},
   "source": [
    "## Far out of focus"
   ]
  },
  {
   "cell_type": "code",
   "execution_count": null,
   "id": "79762d65-c7eb-4dab-8e8b-f506e41aa1de",
   "metadata": {},
   "outputs": [],
   "source": [
    "orange_label=label(img_orange>0) ### FoF image\n",
    "orange_obj = np.max(orange_label)\n",
    "print(true_obj,orange_obj)"
   ]
  },
  {
   "cell_type": "code",
   "execution_count": null,
   "id": "a6fafedc-7a6d-45a8-b450-5517e93db476",
   "metadata": {},
   "outputs": [],
   "source": [
    "orange_props=regionprops(orange_label,original)"
   ]
  },
  {
   "cell_type": "code",
   "execution_count": null,
   "id": "3403c2e1-c261-4be0-846d-be6ef539640b",
   "metadata": {},
   "outputs": [],
   "source": [
    "TP_orange=[]\n",
    "TN_orange=[]\n",
    "FP_orange=[]\n",
    "FN_orange=[]\n",
    "area_orange=[]\n",
    "slize_orange=[]"
   ]
  },
  {
   "cell_type": "code",
   "execution_count": null,
   "id": "c3f162fd-0da4-4a0e-a14d-798e15d2f0c0",
   "metadata": {},
   "outputs": [],
   "source": [
    "func(len(orange_props), img_orange, orange_props, img_test, bboxx, 0, area_orange, slize_orange, \n",
    "     TP_orange, TN_orange, FP_orange, FN_orange)"
   ]
  },
  {
   "cell_type": "code",
   "execution_count": null,
   "id": "387b8de8-f182-4844-9771-2b2644cf8dbb",
   "metadata": {},
   "outputs": [],
   "source": [
    "data_orange = stats(area_orange, slize_orange, TP_orange, TN_orange, FP_orange, FN_orange, bboxx, 0)"
   ]
  },
  {
   "cell_type": "code",
   "execution_count": null,
   "id": "e81cfee3-b1a8-48c4-a7bc-fa60fc2764de",
   "metadata": {},
   "outputs": [],
   "source": [
    "data_orange[\"area\"].count()"
   ]
  },
  {
   "cell_type": "code",
   "execution_count": null,
   "id": "e0cefdd3-86d7-4813-b02f-cb82f88736c0",
   "metadata": {},
   "outputs": [],
   "source": [
    "pos_orange = len(data_orange.loc[data_orange['diameter_difference_percent'] > -100])\n",
    "pos_orange"
   ]
  },
  {
   "cell_type": "markdown",
   "id": "af84cb5e-0b41-42d1-a891-1c863562da45",
   "metadata": {},
   "source": [
    "### X"
   ]
  },
  {
   "cell_type": "code",
   "execution_count": null,
   "id": "2d57cb8a-3a93-4305-9933-a7dc14ffa2b3",
   "metadata": {},
   "outputs": [],
   "source": [
    "blue_label=label(img_blue>0) ### X image\n",
    "blue_obj = np.max(blue_label)\n",
    "print(true_obj,blue_obj)"
   ]
  },
  {
   "cell_type": "code",
   "execution_count": null,
   "id": "db0d0166-c14e-4837-86cd-3586d67bbd61",
   "metadata": {},
   "outputs": [],
   "source": [
    "blue_props=regionprops(blue_label,original)"
   ]
  },
  {
   "cell_type": "code",
   "execution_count": null,
   "id": "e6a75f81-9a2e-4d06-a21c-9dbc3e9ed2f7",
   "metadata": {},
   "outputs": [],
   "source": [
    "TP_blue=[]\n",
    "TN_blue=[]\n",
    "FP_blue=[]\n",
    "FN_blue=[]\n",
    "area_blue=[]\n",
    "slize_blue=[]"
   ]
  },
  {
   "cell_type": "code",
   "execution_count": null,
   "id": "d6662ced-da0e-4fe1-8c7f-7959427720a9",
   "metadata": {},
   "outputs": [],
   "source": [
    "func(len(blue_props), img_blue, blue_props, img_test, bboxx, 0, area_blue, slize_blue, \n",
    "     TP_blue, TN_blue, FP_blue, FN_blue)"
   ]
  },
  {
   "cell_type": "code",
   "execution_count": null,
   "id": "c16f52c7-b4ba-4139-b373-beeb857fcece",
   "metadata": {},
   "outputs": [],
   "source": [
    "data_blue = stats(area_blue, slize_blue, TP_blue, TN_blue, FP_blue, FN_blue, bboxx, 0)"
   ]
  },
  {
   "cell_type": "code",
   "execution_count": null,
   "id": "b5d96fc3-0074-4596-baa3-8027b81c417f",
   "metadata": {},
   "outputs": [],
   "source": [
    "data_blue[\"area\"].count()"
   ]
  },
  {
   "cell_type": "code",
   "execution_count": null,
   "id": "ac649138-635e-4eaa-b78b-29cce803466c",
   "metadata": {},
   "outputs": [],
   "source": [
    "pos_blue = len(data_blue.loc[data_blue['diameter_difference_percent'] > -100])\n",
    "pos_blue"
   ]
  },
  {
   "cell_type": "markdown",
   "id": "8e2faa07-55aa-4e00-b5ec-5dc8cf0a106a",
   "metadata": {},
   "source": [
    "## Collect metrics"
   ]
  },
  {
   "cell_type": "code",
   "execution_count": null,
   "id": "52a6ffe0-c60b-4d76-8d83-0de99830d7bd",
   "metadata": {},
   "outputs": [],
   "source": [
    "metrics_data = pd.DataFrame(index=[0])"
   ]
  },
  {
   "cell_type": "code",
   "execution_count": null,
   "id": "a27b742a-a9c5-4df3-8df9-9ac51fcce564",
   "metadata": {},
   "outputs": [],
   "source": [
    "metrics_data['Max_objects'] = true_obj\n",
    "metrics_data['Accuracy'] = acc\n",
    "metrics_data['Balanced_accuracy'] = bacc\n",
    "metrics_data['Precision'] = prec\n",
    "metrics_data['Recall'] = rec\n",
    "metrics_data['F1-score'] = f1"
   ]
  },
  {
   "cell_type": "code",
   "execution_count": null,
   "id": "4b1bf0ca-ad2c-406a-9bd2-36b248c661d9",
   "metadata": {},
   "outputs": [],
   "source": [
    "metrics_data.head()"
   ]
  },
  {
   "cell_type": "markdown",
   "id": "4361d06c-4d85-4d6f-aedc-3aa258353012",
   "metadata": {},
   "source": [
    "## Collect values"
   ]
  },
  {
   "cell_type": "code",
   "execution_count": null,
   "id": "292dc07e-31e9-4408-b9cc-65d8bc322495",
   "metadata": {},
   "outputs": [],
   "source": [
    "values_data = pd.DataFrame(index=[0])"
   ]
  },
  {
   "cell_type": "code",
   "execution_count": null,
   "id": "302b4746-74e3-4933-90a1-a69f8ef1894d",
   "metadata": {},
   "outputs": [],
   "source": [
    "data_full_pos = data_full.loc[data_full['diameter_difference_percent'] > -100]\n",
    "full_iou = data_full.loc[data_full['IoU'] > 0.15]"
   ]
  },
  {
   "cell_type": "code",
   "execution_count": null,
   "id": "8f369fdd-3a79-470f-a31e-70053a8f87a1",
   "metadata": {},
   "outputs": [],
   "source": [
    "values_data['Max_objects'] = true_obj\n",
    "values_data['D diff % std '] = np.std(data_full_pos[\"diameter_difference_percent\"])\n",
    "values_data['D diff % std IoU'] = np.std(full_iou[\"diameter_difference_percent\"])\n",
    "values_data['mean diameter gt'] = mean_diameter_gt\n",
    "values_data['std diameter gt'] = std_diameter_gt\n",
    "values_data['mean diameter seg'] = mean_diameter_seg\n",
    "values_data['std diameter seg'] = std_diameter_seg"
   ]
  },
  {
   "cell_type": "code",
   "execution_count": null,
   "id": "753aab63-390a-4094-9cac-28365c7e4d84",
   "metadata": {},
   "outputs": [],
   "source": [
    "values_data.head()"
   ]
  },
  {
   "cell_type": "markdown",
   "id": "850732be-ee54-4905-b80e-36d930110a77",
   "metadata": {},
   "source": [
    "## Collect counts"
   ]
  },
  {
   "cell_type": "code",
   "execution_count": null,
   "id": "fbb943b3-4dff-4d7d-a08e-1f857d873a8b",
   "metadata": {},
   "outputs": [],
   "source": [
    "print(f\"AH in GT: {true_obj}, Objects in SEG: {seg_obj}, AH erkannt: {pos/true_obj}({pos}), Artefacts: {(seg_obj-pos)/seg_obj}({seg_obj-pos})\")"
   ]
  },
  {
   "cell_type": "code",
   "execution_count": null,
   "id": "f4706e84-9ce2-49ec-9f21-62c1043977b8",
   "metadata": {},
   "outputs": [],
   "source": [
    "counts_data = pd.DataFrame(index=[0])"
   ]
  },
  {
   "cell_type": "code",
   "execution_count": null,
   "id": "31f0d523-de5b-439a-9297-dc7ae5a5f183",
   "metadata": {},
   "outputs": [],
   "source": [
    "counts_data['Max_objects'] = true_obj\n",
    "counts_data['Seg_objects'] = seg_obj\n",
    "counts_data['Air hydrates'] = pos\n",
    "counts_data['Artifacts'] = (seg_obj-pos)\n",
    "counts_data['Focus_max'] = focus_obj\n",
    "counts_data['Focus_seg'] = pos_focus\n",
    "counts_data['AF_max'] = above_obj\n",
    "counts_data['AF_seg'] = pos_above\n",
    "counts_data['BF_max'] = below_obj\n",
    "counts_data['BF_seg'] = pos_below\n",
    "counts_data['FoF_max'] = orange_obj\n",
    "counts_data['FoF_seg'] = pos_orange\n",
    "counts_data['X_max'] = blue_obj\n",
    "counts_data['X_seg'] = pos_blue"
   ]
  },
  {
   "cell_type": "code",
   "execution_count": null,
   "id": "bb13ca02-5d31-4d4e-af3a-0df333b58612",
   "metadata": {},
   "outputs": [],
   "source": [
    "counts_data.head()"
   ]
  },
  {
   "cell_type": "markdown",
   "id": "50e960c6-6ed9-4952-a2bf-6bbd0d060954",
   "metadata": {},
   "source": [
    "## Category data"
   ]
  },
  {
   "cell_type": "code",
   "execution_count": null,
   "id": "2dccf7c6-464f-4517-adc2-436b9e864930",
   "metadata": {},
   "outputs": [],
   "source": [
    "data_above[\"category\"] = \"AF\"\n",
    "data_focus[\"category\"] = \"Focus\"\n",
    "data_below[\"category\"] = \"BF\"\n",
    "data_orange[\"category\"] = \"FOF\"\n",
    "data_blue[\"category\"] = \"X\""
   ]
  },
  {
   "cell_type": "code",
   "execution_count": null,
   "id": "53701011-a725-42ab-9fa2-aacf24162cbd",
   "metadata": {},
   "outputs": [],
   "source": [
    "seg_img_data = pd.concat([data_above,data_focus,data_below,data_orange,data_blue], ignore_index=True)"
   ]
  },
  {
   "cell_type": "code",
   "execution_count": null,
   "id": "bf4c9f7f-4cfc-43d3-802a-fbd3a09a5766",
   "metadata": {},
   "outputs": [],
   "source": [
    "seg_img_data[0:3]"
   ]
  },
  {
   "cell_type": "markdown",
   "id": "5b02a734-b6a9-4e73-b0be-3c314d2fa549",
   "metadata": {},
   "source": [
    "## Save data"
   ]
  },
  {
   "cell_type": "code",
   "execution_count": null,
   "id": "4a58a8ff-e6b4-4f7b-9b8d-fadbb6ff0cb1",
   "metadata": {},
   "outputs": [],
   "source": [
    "now = time.strftime(\"%H-%M\")\n",
    "now"
   ]
  },
  {
   "cell_type": "code",
   "execution_count": null,
   "id": "40584f82-03e4-4f5d-b60a-c1f91d1e7f79",
   "metadata": {},
   "outputs": [],
   "source": [
    "seg_img_data.to_csv(f\"{sample_nr}_data_{today}_{now}.csv\",sep=\";\")\n",
    "metrics_data.to_csv(f\"{sample_nr}_metrics_{today}_{now}.csv\",sep=\";\")\n",
    "values_data.to_csv(f\"{sample_nr}_values_{today}_{now}.csv\",sep=\";\")\n",
    "counts_data.to_csv(f\"{sample_nr}_counts_{today}_{now}.csv\",sep=\";\")"
   ]
  },
  {
   "cell_type": "markdown",
   "id": "3af361b9-f9c1-499e-8f37-59942b2718ed",
   "metadata": {},
   "source": [
    "# Finished"
   ]
  },
  {
   "cell_type": "code",
   "execution_count": null,
   "id": "67226b36-7471-4683-b8f7-f378200cfb62",
   "metadata": {},
   "outputs": [],
   "source": []
  }
 ],
 "metadata": {
  "kernelspec": {
   "display_name": "Python 3 (ipykernel)",
   "language": "python",
   "name": "python3"
  },
  "language_info": {
   "codemirror_mode": {
    "name": "ipython",
    "version": 3
   },
   "file_extension": ".py",
   "mimetype": "text/x-python",
   "name": "python",
   "nbconvert_exporter": "python",
   "pygments_lexer": "ipython3",
   "version": "3.10.13"
  }
 },
 "nbformat": 4,
 "nbformat_minor": 5
}
